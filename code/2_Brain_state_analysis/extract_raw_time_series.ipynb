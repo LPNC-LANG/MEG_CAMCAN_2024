{
 "cells": [
  {
   "cell_type": "code",
   "execution_count": 4,
   "metadata": {},
   "outputs": [],
   "source": [
    "import pickle\n",
    "import numpy as np\n",
    "from glob import glob\n",
    "\n",
    "BASE_DIR = \"E://Research_Projects/MEG_CamCAN\"\n",
    "\n",
    "# Load parcellated data\n",
    "# files = sorted(glob(\"D:/Analyses/TDE_HMM/sflip/sub-*/sflip_parc-raw.fif\"))\n",
    "# data = osl_dynamics.data.Data(files, picks=\"misc\", reject_by_annotation=\"omit\", n_jobs=16)\n",
    "\n",
    "# x_raw = data.arrays\n",
    "# with open(\"D:/Analyses/TDE_HMM/sflip/sflip_time_series.pkl\", \"wb\") as file:\n",
    "#     pickle.dump(x_raw, file)\n",
    "\n",
    "x_raw = pickle.load(open(f\"{BASE_DIR}/TDE_HMM/sflip/sflip_time_series.pkl\", \"rb\"))\n",
    "n_samples = [d.shape[0] for d in x_raw]\n",
    "w = np.array(n_samples) / np.sum(n_samples)\n",
    "# np.save(\"{BASE_DIR}/TDE_HMM/sflip/weights_for_group_average.npy\", w)"
   ]
  }
 ],
 "metadata": {
  "kernelspec": {
   "display_name": "osld",
   "language": "python",
   "name": "python3"
  },
  "language_info": {
   "codemirror_mode": {
    "name": "ipython",
    "version": 3
   },
   "file_extension": ".py",
   "mimetype": "text/x-python",
   "name": "python",
   "nbconvert_exporter": "python",
   "pygments_lexer": "ipython3",
   "version": "3.10.14"
  }
 },
 "nbformat": 4,
 "nbformat_minor": 2
}
